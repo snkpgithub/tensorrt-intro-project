{
 "cells": [
  {
   "cell_type": "markdown",
   "metadata": {
    "id": "U3GsJ7kcaE-t"
   },
   "source": [
    "# **Speeding Up Inference with TensorRT - Shashank Pandey**"
   ]
  },
  {
   "cell_type": "markdown",
   "metadata": {},
   "source": [
    "## YOLO-V5"
   ]
  },
  {
   "cell_type": "code",
   "execution_count": null,
   "metadata": {
    "colab": {
     "base_uri": "https://localhost:8080/"
    },
    "id": "ik8U7U8sbjkj",
    "outputId": "4b437dc7-cc28-4eaf-b95b-bbd076bc0223"
   },
   "outputs": [],
   "source": [
    "!pip install opencv-python\n",
    "!pip install numpy\n",
    "!pip install torch-tensorrt\n",
    "!pip install pandas\n",
    "!pip install matplotlib"
   ]
  },
  {
   "cell_type": "code",
   "execution_count": 1,
   "metadata": {
    "colab": {
     "base_uri": "https://localhost:8080/"
    },
    "id": "ik8U7U8sbjkj",
    "outputId": "4b437dc7-cc28-4eaf-b95b-bbd076bc0223"
   },
   "outputs": [
    {
     "name": "stderr",
     "output_type": "stream",
     "text": [
      "Using cache found in /home/long/.cache/torch/hub/ultralytics_yolov5_master\n",
      "YOLOv5 🚀 2024-2-27 Python-3.10.12 torch-2.2.1+cu121 CUDA:0 (NVIDIA GeForce RTX 4080 Laptop GPU, 12282MiB)\n",
      "\n",
      "Fusing layers... \n",
      "YOLOv5s summary: 213 layers, 7225885 parameters, 0 gradients, 16.4 GFLOPs\n",
      "Adding AutoShape... \n"
     ]
    },
    {
     "name": "stdout",
     "output_type": "stream",
     "text": [
      "cuda\n"
     ]
    }
   ],
   "source": [
    "import torch\n",
    "model = torch.hub.load('ultralytics/yolov5', 'yolov5s', pretrained=True)\n",
    "\n",
    "# Use GPU for inference\n",
    "device = torch.device('cuda' if torch.cuda.is_available() else 'cpu')\n",
    "model.to(device)\n",
    "print(device)"
   ]
  },
  {
   "cell_type": "code",
   "execution_count": 3,
   "metadata": {
    "colab": {
     "base_uri": "https://localhost:8080/"
    },
    "id": "ZkqFbyfAcAbb",
    "outputId": "4a05c640-c0dd-4cb9-fa8b-cabc0ac292e0"
   },
   "outputs": [
    {
     "name": "stdout",
     "output_type": "stream",
     "text": [
      "--2024-02-28 13:45:22--  http://images.cocodataset.org/zips/val2017.zip\n",
      "Resolving images.cocodataset.org (images.cocodataset.org)... 52.216.43.217, 3.5.30.157, 52.216.208.41, ...\n",
      "Connecting to images.cocodataset.org (images.cocodataset.org)|52.216.43.217|:80... connected.\n",
      "HTTP request sent, awaiting response... 200 OK\n",
      "Length: 815585330 (778M) [application/zip]\n",
      "Saving to: ‘val2017.zip.3’\n",
      "\n",
      "val2017.zip.3         0%[                    ]   2.30M  1.54MB/s               ^C\n",
      "replace val2017/000000212226.jpg? [y]es, [n]o, [A]ll, [N]one, [r]ename: ^C\n"
     ]
    }
   ],
   "source": [
    "# Download COCO validation data set\n",
    "!wget http://images.cocodataset.org/zips/val2017.zip\n",
    "!unzip val2017.zip"
   ]
  },
  {
   "cell_type": "code",
   "execution_count": 5,
   "metadata": {},
   "outputs": [],
   "source": [
    "# Iterate through the images in the dataset\n",
    "import os\n",
    "import cv2\n",
    "\n",
    "def prepare_images(image_paths):\n",
    "\n",
    "    images = []\n",
    "    for image_path in image_paths:        \n",
    "      image = cv2.imread(image_path)\n",
    "\n",
    "      # Preprocess the image\n",
    "      image = cv2.cvtColor(image, cv2.COLOR_BGR2RGB)\n",
    "      image = cv2.resize(image, (640, 640))\n",
    "        \n",
    "      image = image.transpose((2, 0, 1)) # W, H, C => C, H, W\n",
    "      image = torch.from_numpy(image).to(device)\n",
    "      image = image.float() / 255.0 # Normalize [0;1]\n",
    "      images.append(image)\n",
    "        \n",
    "    return images"
   ]
  },
  {
   "cell_type": "code",
   "execution_count": 6,
   "metadata": {},
   "outputs": [],
   "source": [
    "# Load COCO dataset\n",
    "image_dir = 'val2017'\n",
    "image_paths = [os.path.join(image_dir, img) for img in os.listdir(image_dir)]\n",
    "\n",
    "# Only take a subset of COCO\n",
    "IMAGE_NUMS = 128\n",
    "images = prepare_images(image_paths[:IMAGE_NUMS])"
   ]
  },
  {
   "cell_type": "code",
   "execution_count": 7,
   "metadata": {},
   "outputs": [],
   "source": [
    "import time\n",
    "\n",
    "def run_inference(model, images):    \n",
    "  times = []\n",
    "  results = []\n",
    "  for image in images:\n",
    "    # Move image to GPU, if not already\n",
    "    image = image.unsqueeze(0)\n",
    "    image_gpu = image.to('cuda')\n",
    "    \n",
    "    # Run inference with no gradient calculation\n",
    "    start = time.time()\n",
    "    with torch.no_grad():\n",
    "        result = model(image_gpu)\n",
    "\n",
    "    results.append(result)\n",
    "    times.append(time.time() - start)\n",
    "\n",
    "  return results, times"
   ]
  },
  {
   "cell_type": "code",
   "execution_count": 8,
   "metadata": {},
   "outputs": [
    {
     "name": "stdout",
     "output_type": "stream",
     "text": [
      "Average inference time (s): 0.008198220282793045\n",
      "Average inference time (s): 0.006218124181032181\n",
      "Average inference time (s): 0.007922634482383728\n",
      "Average inference time (s): 0.008371112868189812\n",
      "Average inference time (s): 0.007605014368891716\n",
      "Average inference time (s): 0.005643885582685471\n",
      "Average inference time (s): 0.0056277308613061905\n",
      "Average inference time (s): 0.005955127999186516\n",
      "Average inference time (s): 0.010654594749212265\n",
      "Average inference time (s): 0.010228211060166359\n",
      "Mean average inference time (s): 0.007642465643584728\n"
     ]
    }
   ],
   "source": [
    "NUM_TRIALS = 10\n",
    "avgs = []\n",
    "\n",
    "for i in range(NUM_TRIALS):  \n",
    "    results, times = run_inference(model, images)\n",
    "    avg = sum(times)/len(times)\n",
    "    print(\"Average inference time (s):\", avg)\n",
    "    avgs.append(avg)\n",
    "    \n",
    "mat = sum(avgs)/NUM_TRIALS\n",
    "print(\"Mean average inference time (s):\", mat)"
   ]
  },
  {
   "cell_type": "markdown",
   "metadata": {
    "id": "vKIN7zJi2kvY"
   },
   "source": [
    "# **Accelerating the model with TensorRT**"
   ]
  },
  {
   "cell_type": "code",
   "execution_count": 11,
   "metadata": {},
   "outputs": [
    {
     "name": "stderr",
     "output_type": "stream",
     "text": [
      "/home/long/.cache/torch/hub/ultralytics_yolov5_master/models/yolo.py:100: TracerWarning: Converting a tensor to a Python boolean might cause the trace to be incorrect. We can't record the data flow of Python values, so this value will be treated as a constant in the future. This means that the trace might not generalize to other inputs!\n",
      "  if self.dynamic or self.grid[i].shape[2:4] != x[i].shape[2:4]:\n",
      "/home/long/.cache/torch/hub/ultralytics_yolov5_master/models/yolo.py:100: TracerWarning: Converting a tensor to a Python boolean might cause the trace to be incorrect. We can't record the data flow of Python values, so this value will be treated as a constant in the future. This means that the trace might not generalize to other inputs!\n",
      "  if self.dynamic or self.grid[i].shape[2:4] != x[i].shape[2:4]:\n",
      "WARNING: [Torch-TensorRT] - Trying to record the value 0 with the ITensor input_0 again.\n",
      "WARNING: [Torch-TensorRT] - Dilation not used in Max pooling converter\n",
      "WARNING: [Torch-TensorRT] - Dilation not used in Max pooling converter\n",
      "WARNING: [Torch-TensorRT] - Dilation not used in Max pooling converter\n",
      "WARNING: [Torch-TensorRT] - Unable to process input type of at::kLong, truncate type to at::kInt in scalar_to_tensor_util \n",
      "WARNING: [Torch-TensorRT] - Trying to record the value 213 with the ITensor (Unnamed Layer* 121) [ElementWise]_output again.\n",
      "WARNING: [Torch-TensorRT] - Unable to process input type of at::kLong, truncate type to at::kInt in scalar_to_tensor_util \n",
      "WARNING: [Torch-TensorRT] - Trying to record the value 224 with the ITensor (Unnamed Layer* 126) [ElementWise]_output again.\n",
      "WARNING: [Torch-TensorRT] - Unable to process input type of at::kLong, truncate type to at::kInt in scalar_to_tensor_util \n",
      "WARNING: [Torch-TensorRT] - Trying to record the value 53 with the ITensor (Unnamed Layer* 23) [ElementWise]_output again.\n",
      "WARNING: [Torch-TensorRT] - Unable to process input type of at::kLong, truncate type to at::kInt in scalar_to_tensor_util \n",
      "WARNING: [Torch-TensorRT] - Trying to record the value 64 with the ITensor (Unnamed Layer* 28) [ElementWise]_output again.\n",
      "WARNING: [Torch-TensorRT] - Truncating weight (constant in the graph) from Int64 to Int32\n",
      "WARNING: [Torch-TensorRT] - Truncating weight (constant in the graph) from Int64 to Int32\n",
      "WARNING: [Torch-TensorRT] - Truncating weight (constant in the graph) from Int64 to Int32\n",
      "WARNING: [Torch-TensorRT] - Truncating weight (constant in the graph) from Int64 to Int32\n",
      "WARNING: [Torch-TensorRT] - Truncating weight (constant in the graph) from Int64 to Int32\n",
      "WARNING: [Torch-TensorRT] - Truncating weight (constant in the graph) from Int64 to Int32\n"
     ]
    }
   ],
   "source": [
    "import torch_tensorrt\n",
    "\n",
    "model.eval()  # Set the model to evaluation mode\n",
    "input_data = torch.randn(1, 3, 640, 640)\n",
    "\n",
    "\n",
    "trt_model = torch_tensorrt.compile(model, inputs=[input_data],\n",
    "                                   ir='ts',\n",
    "                                   enabled_precisions={torch.float32},\n",
    "                                   truncate_long_and_double=True)"
   ]
  },
  {
   "cell_type": "code",
   "execution_count": 12,
   "metadata": {},
   "outputs": [
    {
     "name": "stdout",
     "output_type": "stream",
     "text": [
      "TensorRT optimized\n",
      "Average inference time (s): 0.004738861694931984\n",
      "Average inference time (s): 0.003201013430953026\n",
      "Average inference time (s): 0.0034089460968971252\n",
      "Average inference time (s): 0.003065887838602066\n",
      "Average inference time (s): 0.002827117219567299\n",
      "Average inference time (s): 0.0027531571686267853\n",
      "Average inference time (s): 0.0029252376407384872\n",
      "Average inference time (s): 0.002684958279132843\n",
      "Average inference time (s): 0.0024376586079597473\n",
      "Average inference time (s): 0.0030416101217269897\n",
      "Mean average inference time (s): 0.0031084448099136354\n"
     ]
    }
   ],
   "source": [
    "print(\"TensorRT optimized\")\n",
    "\n",
    "avgs = []\n",
    "for i in range(NUM_TRIALS):  \n",
    "    trt_results, trt_time = run_inference(trt_model, images)\n",
    "    avg = sum(trt_time)/len(images)\n",
    "    print(\"Average inference time (s):\", avg)\n",
    "    avgs.append(avg)\n",
    "    \n",
    "trt_mat = sum(avgs)/NUM_TRIALS\n",
    "print(\"Mean average inference time (s):\", trt_mat)"
   ]
  },
  {
   "cell_type": "code",
   "execution_count": 13,
   "metadata": {},
   "outputs": [
    {
     "name": "stdout",
     "output_type": "stream",
     "text": [
      "Speed up: 2.4586139085406717\n"
     ]
    }
   ],
   "source": [
    "speed_up = mat / trt_mat\n",
    "print(\"Speed up:\", speed_up)"
   ]
  },
  {
   "cell_type": "markdown",
   "metadata": {},
   "source": [
    "# **Batching**"
   ]
  },
  {
   "cell_type": "code",
   "execution_count": 14,
   "metadata": {},
   "outputs": [
    {
     "name": "stderr",
     "output_type": "stream",
     "text": [
      "/home/long/.cache/torch/hub/ultralytics_yolov5_master/models/yolo.py:100: TracerWarning: Converting a tensor to a Python boolean might cause the trace to be incorrect. We can't record the data flow of Python values, so this value will be treated as a constant in the future. This means that the trace might not generalize to other inputs!\n",
      "  if self.dynamic or self.grid[i].shape[2:4] != x[i].shape[2:4]:\n",
      "/home/long/.cache/torch/hub/ultralytics_yolov5_master/models/yolo.py:100: TracerWarning: Converting a tensor to a Python boolean might cause the trace to be incorrect. We can't record the data flow of Python values, so this value will be treated as a constant in the future. This means that the trace might not generalize to other inputs!\n",
      "  if self.dynamic or self.grid[i].shape[2:4] != x[i].shape[2:4]:\n",
      "WARNING:torch_tensorrt._compile:Input graph is a Torchscript module but the ir provided is default (dynamo). Please set ir=torchscript to suppress the warning. Compiling the module with ir=torchscript\n",
      "WARNING: [Torch-TensorRT] - Trying to record the value 0 with the ITensor input_0 again.\n",
      "WARNING: [Torch-TensorRT] - Dilation not used in Max pooling converter\n",
      "WARNING: [Torch-TensorRT] - Dilation not used in Max pooling converter\n",
      "WARNING: [Torch-TensorRT] - Dilation not used in Max pooling converter\n",
      "WARNING: [Torch-TensorRT] - Unable to process input type of at::kLong, truncate type to at::kInt in scalar_to_tensor_util \n",
      "WARNING: [Torch-TensorRT] - Trying to record the value 213 with the ITensor (Unnamed Layer* 121) [ElementWise]_output again.\n",
      "WARNING: [Torch-TensorRT] - Unable to process input type of at::kLong, truncate type to at::kInt in scalar_to_tensor_util \n",
      "WARNING: [Torch-TensorRT] - Trying to record the value 224 with the ITensor (Unnamed Layer* 126) [ElementWise]_output again.\n",
      "WARNING: [Torch-TensorRT] - Unable to process input type of at::kLong, truncate type to at::kInt in scalar_to_tensor_util \n",
      "WARNING: [Torch-TensorRT] - Trying to record the value 53 with the ITensor (Unnamed Layer* 23) [ElementWise]_output again.\n",
      "WARNING: [Torch-TensorRT] - Unable to process input type of at::kLong, truncate type to at::kInt in scalar_to_tensor_util \n",
      "WARNING: [Torch-TensorRT] - Trying to record the value 64 with the ITensor (Unnamed Layer* 28) [ElementWise]_output again.\n",
      "WARNING: [Torch-TensorRT] - There may be undefined behavior using dynamic shape and aten::size without setting allow_shape_tensors\n",
      "WARNING: [Torch-TensorRT] - Truncating weight (constant in the graph) from Int64 to Int32\n",
      "WARNING: [Torch-TensorRT] - Truncating weight (constant in the graph) from Int64 to Int32\n",
      "WARNING: [Torch-TensorRT] - There may be undefined behavior using dynamic shape and aten::size without setting allow_shape_tensors\n",
      "WARNING: [Torch-TensorRT] - Truncating weight (constant in the graph) from Int64 to Int32\n",
      "WARNING: [Torch-TensorRT] - Truncating weight (constant in the graph) from Int64 to Int32\n",
      "WARNING: [Torch-TensorRT] - There may be undefined behavior using dynamic shape and aten::size without setting allow_shape_tensors\n",
      "WARNING: [Torch-TensorRT] - Truncating weight (constant in the graph) from Int64 to Int32\n",
      "WARNING: [Torch-TensorRT] - Truncating weight (constant in the graph) from Int64 to Int32\n"
     ]
    }
   ],
   "source": [
    "import torch_tensorrt\n",
    "import torch\n",
    "\n",
    "# Example for dynamic batch size\n",
    "BATCH_SIZE = 16\n",
    "DYNAMIC_BATCH_ENABLED = True\n",
    "input_data = torch.randn(BATCH_SIZE, 3, 640, 640)\n",
    "\n",
    "if DYNAMIC_BATCH_ENABLED:\n",
    "    # Specify dynamic batch size\n",
    "    inputs = [torch_tensorrt.Input(\n",
    "        min_shape=[1, 3, 640, 640],\n",
    "        opt_shape=[BATCH_SIZE, 3, 640, 640],\n",
    "        max_shape=[32, 3, 640, 640],  # Example max batch size\n",
    "        dtype=torch.float32  # Ensure this matches your model's expected input type\n",
    "    )]\n",
    "else:\n",
    "    inputs = [input_data]\n",
    "\n",
    "ts = torch.jit.trace(model, input_data, strict=False)\n",
    "trt_model = torch_tensorrt.compile(ts,\n",
    "                                   inputs=inputs,\n",
    "                                   enabled_precisions={torch.float32},\n",
    "                                   truncate_long_and_double=True)"
   ]
  },
  {
   "cell_type": "code",
   "execution_count": 15,
   "metadata": {},
   "outputs": [],
   "source": [
    "def run_inference_in_batches(model, images, batch_size=BATCH_SIZE):\n",
    "    times = []\n",
    "    results = []\n",
    "    \n",
    "    for i in range(0, len(images), batch_size):\n",
    "        batch_images = images[i:i + batch_size]\n",
    "        \n",
    "        # Stack images to create a batch\n",
    "        batch = torch.stack(batch_images).to('cuda')\n",
    "\n",
    "        start = time.time()\n",
    "        with torch.no_grad():\n",
    "            result = model(batch)\n",
    "\n",
    "        results.append(result)\n",
    "        times.append(time.time() - start)\n",
    "    \n",
    "    return results, times"
   ]
  },
  {
   "cell_type": "code",
   "execution_count": 16,
   "metadata": {},
   "outputs": [
    {
     "name": "stdout",
     "output_type": "stream",
     "text": [
      "TensorRT optimized - Batched  16\n",
      "Average inference time (s): 0.0031599905341863632\n",
      "Average inference time (s): 0.0016660261899232864\n",
      "Average inference time (s): 0.0016808975487947464\n",
      "Average inference time (s): 0.0016959533095359802\n",
      "Average inference time (s): 0.0017578788101673126\n",
      "Average inference time (s): 0.00174027681350708\n",
      "Average inference time (s): 0.00173121877014637\n",
      "Average inference time (s): 0.0017148610204458237\n",
      "Average inference time (s): 0.0016897749155759811\n",
      "Average inference time (s): 0.0017396770417690277\n",
      "Mean average inference time (s): 0.001857655495405197\n"
     ]
    }
   ],
   "source": [
    "print(\"TensorRT optimized - Batched \", BATCH_SIZE)\n",
    "avgs = []\n",
    "for i in range(NUM_TRIALS):\n",
    "    batched_results, batched_time = run_inference_in_batches(trt_model, images)\n",
    "    avg = sum(batched_time)/len(images)\n",
    "    print(\"Average inference time (s):\", avg)\n",
    "    avgs.append(avg)\n",
    "\n",
    "batched_mat = sum(avgs)/NUM_TRIALS\n",
    "print(\"Mean average inference time (s):\", batched_mat)"
   ]
  },
  {
   "cell_type": "code",
   "execution_count": 17,
   "metadata": {},
   "outputs": [
    {
     "data": {
      "text/plain": [
       "4.114038185491294"
      ]
     },
     "execution_count": 17,
     "metadata": {},
     "output_type": "execute_result"
    }
   ],
   "source": [
    "mat/batched_mat"
   ]
  },
  {
   "cell_type": "code",
   "execution_count": 18,
   "metadata": {},
   "outputs": [
    {
     "data": {
      "image/png": "[encoded data removed]",
      "text/plain": [
       "<Figure size 432x288 with 1 Axes>"
      ]
     },
     "metadata": {
      "needs_background": "light"
     },
     "output_type": "display_data"
    }
   ],
   "source": [
    "%matplotlib inline\n",
    "import matplotlib.pyplot as plt\n",
    "\n",
    "speed_up_values = [mat / mat, mat / trt_mat, mat / batched_mat]\n",
    "labels = ['Baseline', 'TRT', 'Batched-TRT (16)']\n",
    "\n",
    "plt.bar(labels, speed_up_values, color=['blue', 'orange', 'green'])\n",
    "\n",
    "# Adding labels and title\n",
    "plt.ylabel('Speed Up in X')\n",
    "plt.title('Speed Up Comparison')\n",
    "\n",
    "# Display the plot\n",
    "plt.show()"
   ]
  }
 ],
 "metadata": {
  "accelerator": "GPU",
  "colab": {
   "gpuType": "T4",
   "provenance": [],
   "toc_visible": true
  },
  "kernelspec": {
   "display_name": "Python 3 (ipykernel)",
   "language": "python",
   "name": "python3"
  },
  "language_info": {
   "codemirror_mode": {
    "name": "ipython",
    "version": 3
   },
   "file_extension": ".py",
   "mimetype": "text/x-python",
   "name": "python",
   "nbconvert_exporter": "python",
   "pygments_lexer": "ipython3",
   "version": "3.10.12"
  }
 },
 "nbformat": 4,
 "nbformat_minor": 4
}
